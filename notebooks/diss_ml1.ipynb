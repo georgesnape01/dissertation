{
  "nbformat": 4,
  "nbformat_minor": 0,
  "metadata": {
    "colab": {
      "provenance": []
    },
    "kernelspec": {
      "name": "python3",
      "display_name": "Python 3"
    },
    "language_info": {
      "name": "python"
    }
  },
  "cells": [
    {
      "cell_type": "markdown",
      "metadata": {
        "id": "d2EOgxyWSmpJ"
      },
      "source": [
        "# Predicting Success: Machine Learning Models for CBT Outcomes"
      ]
    },
    {
      "cell_type": "markdown",
      "source": [
        "# Introduction"
      ],
      "metadata": {
        "id": "dem0nfJ-q6eT"
      }
    },
    {
      "cell_type": "markdown",
      "source": [
        "This study aims to utilise machine learning techniques to predict the likelihood of success in Cognitive Behavioral Therapy (CBT) using data. The dataset encompasses various demographic, treatment-related, and psychological assessment variables, offering insights into patient profiles and treatment outcomes. By leveraging various analytical skills, predictive models will aid in revealing the success probability for CBT in individual patients."
      ],
      "metadata": {
        "id": "4PiQDKBfrk8K"
      }
    },
    {
      "cell_type": "markdown",
      "source": [
        "Contents\n",
        "\n",
        "1.   Walk through\n",
        "2.   Traditional Machine Learning\n",
        "3.   Large Language Model fine-tuning\n",
        "\n",
        "\n"
      ],
      "metadata": {
        "id": "eCcvVZu_ruH0"
      }
    },
    {
      "cell_type": "code",
      "source": [
        "from google.colab import drive\n",
        "import sys\n",
        "\n",
        "import numpy as np\n",
        "import pandas as pd\n",
        "import matplotlib.pyplot as plt\n",
        "import seaborn as sns\n",
        "\n",
        "import missingno as msno\n",
        "\n",
        "drive.mount('/content/drive')\n",
        "notebook_path = '/content/drive/MyDrive/Colab Notebooks/'\n",
        "sys.path.append(notebook_path)\n",
        "import cleaning_functions as cleanf\n",
        "import eda_functions as edaf\n",
        "import preparation_functions as prepf\n",
        "import modelling_functions as modelf"
      ],
      "metadata": {
        "colab": {
          "base_uri": "https://localhost:8080/"
        },
        "id": "yaacj1gcCYn8",
        "outputId": "180b1ece-b772-4b01-98c1-a2ff9f2a0149"
      },
      "execution_count": null,
      "outputs": [
        {
          "output_type": "stream",
          "name": "stdout",
          "text": [
            "Drive already mounted at /content/drive; to attempt to forcibly remount, call drive.mount(\"/content/drive\", force_remount=True).\n"
          ]
        }
      ]
    },
    {
      "cell_type": "markdown",
      "metadata": {
        "id": "w-UUReUl-PF6"
      },
      "source": [
        "# Machine Learning"
      ]
    },
    {
      "cell_type": "markdown",
      "metadata": {
        "id": "KIt67DIqdUNI"
      },
      "source": [
        "## Loading"
      ]
    },
    {
      "cell_type": "markdown",
      "metadata": {
        "id": "H5nyvLAZsP4o"
      },
      "source": [
        "### Libraries"
      ]
    },
    {
      "cell_type": "code",
      "execution_count": null,
      "metadata": {
        "id": "eJbA0iPb-Yqd"
      },
      "outputs": [],
      "source": [
        "# preprocessing\n",
        "from google.colab import drive\n",
        "import pandas as pd\n",
        "import matplotlib.pyplot as plt\n",
        "import numpy as np\n",
        "\n",
        "# eda\n",
        "import seaborn as sns\n",
        "from scipy import stats\n",
        "\n",
        "# processing\n",
        "from sklearn.preprocessing import MinMaxScaler # normalisation\n",
        "from sklearn.preprocessing import Normalizer # works on rows not features\n",
        "from sklearn.preprocessing import StandardScaler # standardisation\n",
        "\n",
        "from statsmodels.imputation.mice import MICEData\n",
        "from sklearn.impute import SimpleImputer\n",
        "from sklearn.impute import KNNImputer\n",
        "from sklearn.experimental import enable_iterative_imputer\n",
        "from sklearn.impute import IterativeImputer # MICE (returning single rather than multiple)\n",
        "\n",
        "from sklearn.feature_selection import f_classif\n",
        "from sklearn.feature_selection import mutual_info_classif\n",
        "from sklearn.feature_selection import chi2 # neg values\n",
        "\n",
        "# modelling\n",
        "from xgboost import XGBClassifier\n",
        "\n",
        "from sklearn.model_selection import StratifiedKFold\n",
        "from sklearn.model_selection import GridSearchCV\n",
        "from sklearn import metrics\n",
        "\n",
        "from sklearn.feature_selection import RFE\n",
        "from sklearn.feature_selection import SelectFromModel\n",
        "from sklearn.feature_selection import SelectKBest\n",
        "from sklearn.pipeline import Pipeline\n",
        "\n",
        "from sklearn.metrics import precision_recall_curve\n",
        "from sklearn.metrics import confusion_matrix"
      ]
    },
    {
      "cell_type": "markdown",
      "metadata": {
        "id": "r4f_FnudsSmA"
      },
      "source": [
        "### Data Processing"
      ]
    },
    {
      "cell_type": "code",
      "execution_count": null,
      "metadata": {
        "id": "QFtPEz0v-wnZ",
        "colab": {
          "base_uri": "https://localhost:8080/"
        },
        "outputId": "39f92c4a-aa64-4e69-9dd2-ad2ab1a7b69c"
      },
      "outputs": [
        {
          "output_type": "stream",
          "name": "stdout",
          "text": [
            "Drive already mounted at /content/drive; to attempt to forcibly remount, call drive.mount(\"/content/drive\", force_remount=True).\n"
          ]
        }
      ],
      "source": [
        "# create different processed datasets\n",
        "data, raw_df = cleanf.load_data()\n",
        "data = cleanf.Clean_Data(data)\n",
        "\n",
        "prep1_df = prepf.Prepare_Data(\n",
        "    df=data,\n",
        "    quasi_thresh=0.995,\n",
        "    corr_thresh=0.95,\n",
        "    load_matrices=True,\n",
        "    col_thresh=0.5,\n",
        "    row_thresh=0.5,\n",
        "    scale_method='normalise',\n",
        "    imputation_method='iterative',\n",
        "    #n_neighbours=3,\n",
        "    max_iter=10,\n",
        "    k_features=150)"
      ]
    },
    {
      "cell_type": "markdown",
      "metadata": {
        "id": "zU2DB7h8dXeX"
      },
      "source": [
        "## Fine-Tuning"
      ]
    },
    {
      "cell_type": "markdown",
      "source": [
        "Hyperparameter-Tuning: Round 1"
      ],
      "metadata": {
        "id": "dcJgjd3a-te2"
      }
    },
    {
      "cell_type": "code",
      "execution_count": null,
      "metadata": {
        "id": "jI7mhzsU_ASs",
        "colab": {
          "base_uri": "https://localhost:8080/"
        },
        "outputId": "b687eabd-8a55-4c64-9a0a-3a847751cc51"
      },
      "outputs": [
        {
          "output_type": "stream",
          "name": "stderr",
          "text": [
            "/usr/local/lib/python3.10/dist-packages/joblib/externals/loky/backend/fork_exec.py:38: RuntimeWarning: os.fork() was called. os.fork() is incompatible with multithreaded code, and JAX is multithreaded, so this will likely lead to a deadlock.\n",
            "  pid = os.fork()\n",
            "/usr/local/lib/python3.10/dist-packages/joblib/externals/loky/backend/fork_exec.py:38: RuntimeWarning: os.fork() was called. os.fork() is incompatible with multithreaded code, and JAX is multithreaded, so this will likely lead to a deadlock.\n",
            "  pid = os.fork()\n"
          ]
        },
        {
          "output_type": "stream",
          "name": "stdout",
          "text": [
            "Inner CV accuracy: 0.6438095238095236\n",
            "Number of selected features 128\n",
            "Selected features ['Item82', 'Item156', 'Item81', 'Gender', 'Item151', 'Item57', 'EthnicCodeShort', 'Item125', 'Item90', 'Total16', 'Item115', 'Item91', 'AgeAtReferralRequest', 'Item85', 'Item56', 'Item109', 'Threshold5', 'Total15', 'Item186', 'Item86', 'Item16', 'Item9', 'CareContacts', 'Item2', 'Item195', 'Item11', 'CaseID', 'Item19', 'Item83', 'Item13', 'Item32', 'Item210', 'TherapistID', 'EthnicCode', 'Total17', 'Item23', 'Total18', 'Item179', 'Item134', 'Item30', 'Item168', 'Item135', 'DateOfQuestionnaire', 'Item73', 'Item221', 'Total9', 'ClientID', 'DaystoAssessment', 'Item53', 'Item197', 'Item62', 'DaystoTreatment', 'Item114', 'Item167', 'Item181', 'Item140', 'Treated', 'Item4', 'Item198', 'Item120', 'Item188', 'Total1', 'Item174', 'Item145', 'Item219', 'Item25', 'Item142', 'Item84', 'Item161', 'Total14', 'Item17', 'Item18', 'Item93', 'Item165', 'Item112', 'Item48', 'Total20', 'Item199', 'Item180', 'Item47', 'Item178', 'Total12', 'Threshold11', 'Item5', 'Item148', 'Item122', 'Item169', 'Item176', 'Item137', 'Item63', 'Item35', 'Item7', 'Item173', 'Item92', 'Total8', 'Item132', 'Total19', 'Item206', 'Item116', 'Item97', 'Item166', 'Item187', 'Total6', 'Item126', 'Item185', 'Item171', 'Total21', 'Item96', 'Item164', 'Total2', 'Item58', 'Item60', 'Item177', 'Item141', 'ExperienceLevel', 'Item175', 'Item153', 'ReferralDate', 'Total11', 'Item189', 'Item196', 'Total7', 'Item67', 'Item33', 'Item46', 'Item118', 'Item212', 'Item14']\n",
            "Max depth 5\n",
            "Number of trees 200\n",
            "Learning rate 0.01\n",
            "Minimum child weight None\n",
            "Subsample 0.5\n",
            "Colsample bytree 0.8\n",
            "Gamma None\n",
            "Lambda None\n",
            "Alpha None\n",
            "Outer CV accuracy: 0.6\n",
            "--------------------------------------------------\n",
            "Inner CV accuracy: 0.6276190476190476\n",
            "Number of selected features 128\n",
            "Selected features ['Item124', 'Item82', 'Item156', 'Item211', 'Item38', 'Item151', 'Item57', 'EthnicCodeShort', 'Item12', 'Item150', 'Item136', 'Total16', 'Item202', 'Item115', 'Item91', 'Item61', 'Item42', 'Item213', 'AgeAtReferralRequest', 'Item85', 'Item144', 'Item190', 'Item75', 'Item128', 'Total15', 'Item205', 'Item86', 'Item22', 'Item103', 'Item1', 'Threshold1', 'Item9', 'CareContacts', 'Item195', 'CaseID', 'Item83', 'Item32', 'TherapistID', 'EthnicCode', 'Total17', 'ReferralCount', 'Total18', 'Item44', 'Item191', 'Item179', 'Item168', 'Item70', 'Item135', 'Item147', 'DateOfQuestionnaire', 'Item73', 'Total9', 'Item157', 'Item159', 'Item49', 'Total5', 'DaystoAssessment', 'Item53', 'Item62', 'DaystoTreatment', 'Item78', 'Item114', 'Item181', 'Item6', 'Item140', 'Treated', 'Item54', 'Item198', 'Item120', 'Item188', 'Total1', 'Item88', 'Item174', 'Item145', 'Total14', 'Item112', 'Item48', 'Item3', 'Total20', 'Item199', 'Item178', 'Threshold11', 'Item99', 'Item5', 'Item79', 'Item148', 'Item27', 'Item74', 'Item169', 'Item176', 'Item172', 'Total4', 'Item137', 'Item63', 'Item35', 'Item173', 'Item92', 'Total8', 'Item65', 'Item132', 'Total19', 'Item206', 'Item97', 'Item166', 'Item187', 'Total6', 'Item126', 'Item80', 'Item171', 'Total21', 'Item96', 'Item143', 'Item164', 'Item177', 'Item214', 'Item175', 'Total11', 'Item139', 'Item189', 'Item196', 'Item113', 'Item67', 'Item33', 'Total3', 'Total13', 'Item118', 'Item14', 'Item15']\n",
            "Max depth 5\n",
            "Number of trees 200\n",
            "Learning rate 0.1\n",
            "Minimum child weight None\n",
            "Subsample 0.5\n",
            "Colsample bytree 0.5\n",
            "Gamma None\n",
            "Lambda None\n",
            "Alpha None\n",
            "Outer CV accuracy: 0.7948717948717948\n",
            "--------------------------------------------------\n",
            "Inner CV accuracy: 0.6479365079365079\n",
            "Number of selected features 90\n",
            "Selected features ['Item124', 'Item156', 'Item211', 'Item38', 'Item151', 'Item57', 'Item136', 'Total16', 'Item31', 'Item202', 'Item91', 'Item42', 'AgeAtReferralRequest', 'Item190', 'Item128', 'Total15', 'Item205', 'Item36', 'Item86', 'Item22', 'Item103', 'Item9', 'CareContacts', 'CaseID', 'Item83', 'Item13', 'Item210', 'TherapistID', 'Threshold12', 'EthnicCode', 'Total17', 'Item23', 'ReferralCount', 'Item179', 'Item134', 'Item70', 'Item73', 'DaystoAssessment', 'Item53', 'Item197', 'Item101', 'DaystoTreatment', 'Item201', 'Item181', 'Treated', 'Item4', 'Item198', 'Item120', 'Item174', 'Item219', 'Item17', 'Item112', 'Item48', 'Total20', 'Item8', 'Item199', 'Item180', 'Item178', 'Item169', 'Item176', 'Item207', 'Item63', 'Item35', 'Item29', 'Item173', 'Total8', 'Item132', 'Total19', 'Item206', 'Item97', 'Total6', 'Item126', 'Item80', 'Item171', 'Item96', 'Item143', 'Item164', 'Item138', 'Item26', 'ExperienceLevel', 'Item214', 'Item43', 'Item153', 'ReferralDate', 'Item139', 'Item189', 'Item196', 'Item46', 'Item212', 'Item14']\n",
            "Max depth 3\n",
            "Number of trees 500\n",
            "Learning rate 0.5\n",
            "Minimum child weight None\n",
            "Subsample 0.5\n",
            "Colsample bytree 0.5\n",
            "Gamma None\n",
            "Lambda None\n",
            "Alpha None\n",
            "Outer CV accuracy: 0.5897435897435898\n",
            "--------------------------------------------------\n",
            "Inner CV accuracy: 0.645\n",
            "Number of selected features 128\n",
            "Selected features ['Item124', 'Item82', 'Item156', 'Item89', 'Item151', 'EthnicCodeShort', 'Item12', 'Item125', 'Item136', 'Total16', 'Item202', 'Item115', 'Item91', 'Item213', 'AgeAtReferralRequest', 'Item85', 'Item133', 'Item144', 'Item56', 'Item190', 'Item109', 'Item128', 'Total15', 'Item205', 'Item186', 'Item86', 'Item103', 'CareContacts', 'Item2', 'Item41', 'Item195', 'CaseID', 'Item19', 'Item83', 'Item203', 'Item210', 'TherapistID', 'Threshold12', 'EthnicCode', 'Total17', 'Item23', 'Total18', 'Item44', 'Item191', 'Item179', 'Item134', 'Item70', 'DateOfQuestionnaire', 'Item73', 'Total9', 'DaystoAssessment', 'Item53', 'Threshold2', 'Item197', 'DaystoTreatment', 'Item201', 'Item167', 'Item181', 'Item6', 'Item140', 'Treated', 'Item55', 'Item4', 'Item198', 'Item174', 'Item219', 'Item25', 'Item59', 'Item142', 'Total14', 'Item17', 'Item93', 'Item165', 'Item112', 'Item180', 'Total12', 'Threshold11', 'Item77', 'Item5', 'Item148', 'Item27', 'Item130', 'Item169', 'Item176', 'Item172', 'Total4', 'Item137', 'Item152', 'Item149', 'Item63', 'Item35', 'Item173', 'Item92', 'Total8', 'Item21', 'Item132', 'Total19', 'Item206', 'Item97', 'Item166', 'Total6', 'Item126', 'Item80', 'Item158', 'Item171', 'Total21', 'Item143', 'Item164', 'Item58', 'Item138', 'Item141', 'ExperienceLevel', 'Item175', 'Item153', 'Item71', 'Item40', 'Item154', 'Total11', 'Item189', 'Item196', 'Item170', 'Total7', 'Item113', 'Item67', 'Item33', 'Item118', 'Item212', 'Item14']\n",
            "Max depth 5\n",
            "Number of trees 500\n",
            "Learning rate 0.01\n",
            "Minimum child weight None\n",
            "Subsample 0.8\n",
            "Colsample bytree 0.8\n",
            "Gamma None\n",
            "Lambda None\n",
            "Alpha None\n",
            "Outer CV accuracy: 0.48717948717948717\n",
            "--------------------------------------------------\n",
            "Inner CV accuracy: 0.6503968253968254\n",
            "Number of selected features 128\n",
            "Selected features ['Item156', 'Item81', 'Item89', 'Item57', 'EthnicCodeShort', 'Item12', 'Item125', 'Item136', 'Total16', 'Item91', 'AgeAtReferralRequest', 'Item85', 'Item144', 'Item56', 'Item190', 'Item75', 'Item128', 'Threshold5', 'Total15', 'Item205', 'Item86', 'Item22', 'Item9', 'CareContacts', 'Item2', 'Item195', 'CaseID', 'Item19', 'Item83', 'Item203', 'Item13', 'Item32', 'TherapistID', 'Item131', 'EthnicCode', 'Total17', 'Total18', 'Item44', 'Item191', 'Item179', 'Item28', 'Item134', 'Item168', 'Item147', 'Item24', 'DateOfQuestionnaire', 'Item73', 'Total9', 'Item159', 'Total5', 'DaystoAssessment', 'Item197', 'DaystoTreatment', 'Item201', 'Item78', 'Item114', 'Item167', 'Item6', 'Item140', 'Treated', 'Item4', 'Item198', 'Item120', 'Item188', 'Total1', 'Item174', 'Item219', 'Item25', 'Item142', 'Item161', 'Total14', 'Item165', 'Threshold4', 'Item112', 'Item3', 'Total20', 'Item8', 'Item199', 'Item180', 'Threshold11', 'Item77', 'Item5', 'Item27', 'Item169', 'Item176', 'Item172', 'Total4', 'Item137', 'Item152', 'Item63', 'Item35', 'Item29', 'Item173', 'Total8', 'Item123', 'Item132', 'Item206', 'Item116', 'Item97', 'Item166', 'Total6', 'Item126', 'Item158', 'Item171', 'Total21', 'Item164', 'Total2', 'Item60', 'Item177', 'Item141', 'ExperienceLevel', 'Item214', 'Item175', 'Item68', 'Item117', 'Item153', 'ReferralDate', 'Item121', 'Total11', 'Item196', 'Item106', 'Total7', 'Item33', 'Total3', 'Item46', 'Item118', 'Item212', 'Item14']\n",
            "Max depth 3\n",
            "Number of trees 400\n",
            "Learning rate 0.1\n",
            "Minimum child weight None\n",
            "Subsample 0.8\n",
            "Colsample bytree 0.8\n",
            "Gamma None\n",
            "Lambda None\n",
            "Alpha None\n",
            "Outer CV accuracy: 0.46153846153846156\n",
            "--------------------------------------------------\n",
            "Inner CV accuracy: 0.6734126984126982\n",
            "Number of selected features 86\n",
            "Selected features ['Item156', 'Item151', 'Item108', 'Item57', 'Total16', 'Item91', 'Item61', 'Item213', 'Item133', 'Item144', 'Item128', 'Item205', 'Item186', 'Item86', 'Item16', 'Item1', 'Item9', 'CareContacts', 'Item2', 'Item195', 'CaseID', 'Item19', 'Item83', 'Item203', 'Threshold13', 'TherapistID', 'Total17', 'ReferralCount', 'Item134', 'Item147', 'DateOfQuestionnaire', 'Item221', 'Total9', 'DaystoAssessment', 'Item53', 'Item197', 'DaystoTreatment', 'Item209', 'Item114', 'Item181', 'Item6', 'Item140', 'Treated', 'Item120', 'Item188', 'Total1', 'Item145', 'Item25', 'Total14', 'Item17', 'Item18', 'Item3', 'Item180', 'Threshold11', 'Item5', 'Item148', 'Item169', 'Item176', 'Threshold6', 'Total4', 'Item137', 'Item63', 'Item35', 'Item173', 'Item92', 'Item65', 'Item132', 'Item206', 'Item97', 'Item80', 'Item171', 'Total21', 'Item164', 'Total2', 'ExperienceLevel', 'Item175', 'ReferralDate', 'Item121', 'Item40', 'Total11', 'Item139', 'Item196', 'Item33', 'Item118', 'Item212', 'Item15']\n",
            "Max depth 5\n",
            "Number of trees 500\n",
            "Learning rate 0.01\n",
            "Minimum child weight None\n",
            "Subsample 0.8\n",
            "Colsample bytree 0.5\n",
            "Gamma None\n",
            "Lambda None\n",
            "Alpha None\n",
            "Outer CV accuracy: 0.5128205128205128\n",
            "--------------------------------------------------\n",
            "Inner CV accuracy: 0.6416666666666667\n",
            "Number of selected features 128\n",
            "Selected features ['Item124', 'Item82', 'Item156', 'Item211', 'Item81', 'Gender', 'Item89', 'Item151', 'EthnicCodeShort', 'Item12', 'Item150', 'Item125', 'Item90', 'Item136', 'Total16', 'Item202', 'Item91', 'AgeAtReferralRequest', 'Item85', 'Item133', 'Item190', 'Item128', 'Total15', 'Item186', 'Item86', 'Item22', 'Item16', 'CareContacts', 'Item2', 'Item195', 'CaseID', 'Item83', 'Item107', 'Item32', 'EthnicCode', 'Total17', 'Item23', 'Total18', 'Item191', 'Item179', 'Item28', 'Item134', 'Item30', 'Item135', 'Item147', 'Item24', 'DateOfQuestionnaire', 'Item73', 'Item221', 'Total9', 'Item157', 'DaystoAssessment', 'Item197', 'Item101', 'Item62', 'DaystoTreatment', 'Item201', 'Item114', 'Item181', 'Item6', 'Item140', 'Treated', 'Item54', 'Item4', 'Item198', 'Item76', 'Item120', 'Item188', 'Item88', 'Item146', 'Item174', 'Total14', 'Item17', 'Item93', 'Item112', 'Item48', 'Total20', 'Item199', 'Item180', 'Item47', 'Threshold11', 'Item77', 'Item5', 'Item79', 'Item148', 'Item169', 'Item176', 'Item172', 'Threshold6', 'Total4', 'Item137', 'Item152', 'Item63', 'Item35', 'Item7', 'Item173', 'Item92', 'Item50', 'Total8', 'Item132', 'Total19', 'Item206', 'Item97', 'Item187', 'Total6', 'Item126', 'Item80', 'Item158', 'Item171', 'Item96', 'Item143', 'Item164', 'Item200', 'ExperienceLevel', 'Item175', 'Item117', 'Item153', 'ReferralDate', 'Item154', 'Item139', 'Item189', 'Item196', 'Total7', 'Item33', 'Total3', 'Total13', 'Item212', 'Item14']\n",
            "Max depth 5\n",
            "Number of trees 400\n",
            "Learning rate 0.01\n",
            "Minimum child weight None\n",
            "Subsample 0.5\n",
            "Colsample bytree 0.8\n",
            "Gamma None\n",
            "Lambda None\n",
            "Alpha None\n",
            "Outer CV accuracy: 0.717948717948718\n",
            "--------------------------------------------------\n",
            "Inner CV accuracy: 0.6442063492063491\n",
            "Number of selected features 128\n",
            "Selected features ['Item124', 'Item156', 'Item81', 'Item151', 'Item57', 'EthnicCodeShort', 'Item125', 'Item90', 'Total16', 'Item31', 'Item115', 'Item91', 'Item42', 'AgeAtReferralRequest', 'Item133', 'Item190', 'Item128', 'Total15', 'Item205', 'Item86', 'Item9', 'CareContacts', 'Item2', 'Item195', 'Item11', 'CaseID', 'Item83', 'Item210', 'TherapistID', 'Item131', 'Item23', 'Total18', 'Item39', 'Item30', 'Item168', 'Item147', 'Item73', 'Total9', 'Total5', 'DaystoAssessment', 'Item53', 'Item197', 'Threshold3', 'DaystoTreatment', 'Item78', 'Item181', 'Item6', 'Item140', 'Treated', 'Item198', 'Item76', 'Item120', 'Item188', 'Total1', 'Item174', 'Item145', 'Item219', 'Item25', 'Item84', 'Item161', 'Total14', 'Item17', 'Item37', 'Item165', 'Item112', 'Item48', 'Total20', 'Item8', 'Item199', 'Item180', 'Item72', 'Total12', 'Item77', 'Item5', 'Item79', 'Item27', 'Item130', 'Item169', 'Item176', 'Item111', 'Total4', 'Item137', 'Item63', 'Item35', 'Item7', 'Item173', 'Item92', 'Total8', 'Item21', 'Item132', 'Total19', 'Item206', 'Item97', 'Item187', 'Total6', 'Item126', 'Item171', 'Total21', 'Item164', 'Total2', 'Item138', 'Item177', 'Item26', 'Item200', 'Item141', 'ExperienceLevel', 'Item214', 'Item43', 'Item69', 'Item175', 'Item68', 'ReferralDate', 'Item71', 'Item40', 'Item154', 'Total11', 'Item139', 'Item189', 'Item196', 'Item170', 'Total7', 'Item33', 'Total3', 'Item46', 'Item118', 'Item212', 'Item14', 'Item15']\n",
            "Max depth 5\n",
            "Number of trees 500\n",
            "Learning rate 0.1\n",
            "Minimum child weight None\n",
            "Subsample 0.8\n",
            "Colsample bytree 0.8\n",
            "Gamma None\n",
            "Lambda None\n",
            "Alpha None\n",
            "Outer CV accuracy: 0.5897435897435898\n",
            "--------------------------------------------------\n",
            "Inner CV accuracy: 0.6361904761904762\n",
            "Number of selected features 88\n",
            "Selected features ['Item156', 'Gender', 'Item108', 'Item57', 'EthnicCodeShort', 'Item90', 'Total16', 'Item91', 'Item85', 'Item75', 'Item128', 'Threshold5', 'Total15', 'Item86', 'CareContacts', 'Item102', 'Item2', 'Item195', 'Item83', 'Item13', 'Item210', 'EthnicCode', 'Total17', 'Total18', 'Item191', 'Item179', 'Item168', 'Item70', 'Item24', 'DateOfQuestionnaire', 'Total9', 'Item53', 'Item204', 'DaystoTreatment', 'Item201', 'Item114', 'Item167', 'Item87', 'Item181', 'Item6', 'Treated', 'Item4', 'Item198', 'Item120', 'Item188', 'Total1', 'Item174', 'Item84', 'Total14', 'Item17', 'Item3', 'Item199', 'Item180', 'Total12', 'Item5', 'Item130', 'Item169', 'Item176', 'Item172', 'Item111', 'Total4', 'Item137', 'Item63', 'Item35', 'Item173', 'Item92', 'Item132', 'Total19', 'Item97', 'Item166', 'Total6', 'Item158', 'Item171', 'Total21', 'Item143', 'Item164', 'Item177', 'Item200', 'ExperienceLevel', 'Item153', 'Item154', 'Item196', 'Item170', 'Item113', 'Item33', 'Total13', 'Item212', 'Item15']\n",
            "Max depth 5\n",
            "Number of trees 200\n",
            "Learning rate 0.1\n",
            "Minimum child weight None\n",
            "Subsample 0.8\n",
            "Colsample bytree 0.5\n",
            "Gamma None\n",
            "Lambda None\n",
            "Alpha None\n",
            "Outer CV accuracy: 0.5641025641025641\n",
            "--------------------------------------------------\n",
            "Inner CV accuracy: 0.6304761904761904\n",
            "Number of selected features 87\n",
            "Selected features ['Item124', 'Item156', 'Item151', 'EthnicCodeShort', 'Item90', 'Total16', 'Item91', 'AgeAtReferralRequest', 'Item85', 'Item56', 'Item190', 'Item128', 'Item205', 'Item155', 'Item9', 'CareContacts', 'Item2', 'Item195', 'CaseID', 'Item83', 'Item210', 'TherapistID', 'Threshold12', 'EthnicCode', 'Item23', 'Total18', 'Item191', 'Item73', 'Item221', 'Item53', 'Item197', 'DaystoTreatment', 'Item114', 'Item87', 'Item181', 'Treated', 'Item55', 'Item4', 'Item120', 'Item188', 'Item88', 'Item174', 'Item219', 'Item59', 'Total14', 'Item17', 'Item165', 'Item112', 'Item48', 'Item8', 'Item199', 'Item180', 'Item178', 'Item148', 'Item176', 'Total4', 'Item152', 'Item149', 'Item63', 'Item35', 'Item29', 'Item173', 'Item132', 'Total19', 'Item97', 'Item166', 'Total6', 'Item126', 'Item185', 'Total21', 'Item164', 'Total2', 'Item60', 'Item26', 'ExperienceLevel', 'Item69', 'Item175', 'Item208', 'ReferralDate', 'Total11', 'Item189', 'Item94', 'Total7', 'Total3', 'Total13', 'Item14', 'Item15']\n",
            "Max depth 5\n",
            "Number of trees 500\n",
            "Learning rate 0.1\n",
            "Minimum child weight None\n",
            "Subsample 0.5\n",
            "Colsample bytree 0.8\n",
            "Gamma None\n",
            "Lambda None\n",
            "Alpha None\n",
            "Outer CV accuracy: 0.5641025641025641\n",
            "--------------------------------------------------\n"
          ]
        }
      ],
      "source": [
        "param_grid1 = dict(\n",
        "    FS__threshold = [\"mean\", \"median\"],\n",
        "    #FS__n_features_to_select = [10, 15],\n",
        "    classifier__n_estimators = [200, 400, 500],\n",
        "    classifier__max_depth = [3, 5],\n",
        "    classifier__learning_rate = [0.01, 0.1, 0.5],\n",
        "    classifier__subsample = [0.5, 0.8],\n",
        "    classifier__colsample_bytree = [0.5, 0.8])\n",
        "\n",
        "xgb_spec1 = {\n",
        "    'df': prep1_df,\n",
        "    'target': 'ReliableRecovery',\n",
        "    'selector': 'SelectFromModel',\n",
        "    #'selector': 'RFE',\n",
        "    'param_grid': param_grid1,\n",
        "    'outer_k': 10,\n",
        "    'inner_k': 10}\n",
        "\n",
        "xgb_model1 = modelf.XGBoost_ModelSelection(**xgb_spec1)"
      ]
    },
    {
      "cell_type": "code",
      "execution_count": null,
      "metadata": {
        "id": "mrn5Aa_lUhd-",
        "colab": {
          "base_uri": "https://localhost:8080/",
          "height": 910
        },
        "outputId": "fe04d55c-a0b8-4fca-c9a9-2aa01de4f440"
      },
      "outputs": [
        {
          "output_type": "stream",
          "name": "stdout",
          "text": [
            "Average accuracy score: 0.5882051282051282\n",
            "AUPRC score: 0.5376571055614687\n",
            "\n"
          ]
        },
        {
          "output_type": "display_data",
          "data": {
            "text/plain": [
              "<Figure size 1200x400 with 1 Axes>"
            ],
            "image/png": "[encoded data removed]"
          },
          "metadata": {}
        },
        {
          "output_type": "display_data",
          "data": {
            "text/plain": [
              "<Figure size 640x480 with 2 Axes>"
            ],
            "image/png": "[encoded data removed]"
          },
          "metadata": {}
        }
      ],
      "source": [
        "modelf.ModelSelection_Summary(xgb_model1)"
      ]
    },
    {
      "cell_type": "code",
      "execution_count": null,
      "metadata": {
        "id": "L8Tzf4pZiyJv"
      },
      "outputs": [],
      "source": [
        "import pickle\n",
        "\n",
        "file_path = '/content/drive/MyDrive/Data/Dissertation_Data/xgb_model1.pkl'\n",
        "\n",
        "with open(file_path, 'wb') as file:\n",
        "    pickle.dump(xgb_model1, file)\n"
      ]
    },
    {
      "cell_type": "markdown",
      "source": [
        "Hyperparameter-Tuning: Round 2"
      ],
      "metadata": {
        "id": "UXkF2ueytg1Z"
      }
    },
    {
      "cell_type": "code",
      "source": [
        "param_grid2 = dict(\n",
        "    FS__threshold = [\"mean\", \"median\"],\n",
        "    FS__n_features_to_select = [10, 20],\n",
        "    classifier__n_estimators = [200, 400, 500],\n",
        "    classifier__max_depth = [3, 5],\n",
        "    classifier__learning_rate = [0.01, 0.1, 0.5],\n",
        "    classifier__subsample = [0.5, 0.8],\n",
        "    classifier__colsample_bytree = [0.5, 0.8])\n",
        "\n",
        "# model 2\n",
        "xgb_spec2 = {\n",
        "    'df': prep1_df,\n",
        "    'target': 'ReliableRecovery',\n",
        "    #'selector': 'SelectFromModel',\n",
        "    'selector': 'RFE',\n",
        "    'param_grid': param_grid1,\n",
        "    'outer_k': 10,\n",
        "    'inner_k': 5}\n",
        "\n",
        "xgb_model2 = modelf.XGBoost_ModelSelection(**xgb_spec2)"
      ],
      "metadata": {
        "id": "2cxrU-NytD-y"
      },
      "execution_count": null,
      "outputs": []
    },
    {
      "cell_type": "markdown",
      "metadata": {
        "id": "TSI5QUpac_nT"
      },
      "source": [
        "## Modelling"
      ]
    },
    {
      "cell_type": "code",
      "source": [
        "# machine learning models\n",
        "from xgboost import XGBClassifier\n",
        "\n",
        "# feature selection\n",
        "from sklearn.feature_selection import RFE\n",
        "from sklearn.feature_selection import SelectFromModel\n",
        "\n",
        "# hyperparameter-tuning\n",
        "from sklearn.pipeline import Pipeline\n",
        "from sklearn.model_selection import StratifiedKFold\n",
        "from sklearn.model_selection import GridSearchCV\n",
        "from sklearn import metrics\n",
        "\n",
        "# evaluation\n",
        "from sklearn.metrics import precision_recall_curve\n",
        "from sklearn.metrics import confusion_matrix"
      ],
      "metadata": {
        "id": "CBEe1sce_RHb"
      },
      "execution_count": null,
      "outputs": []
    },
    {
      "cell_type": "code",
      "execution_count": null,
      "metadata": {
        "id": "PW-0L2rMswoO"
      },
      "outputs": [],
      "source": [
        "def XGBoost_Training(df, target, selector, param_grid, k=5, print=True):\n",
        "\n",
        "    # dataset\n",
        "    sample = df.dropna(subset = [target])\n",
        "    EndDesc_cols = [col for col in df.columns if 'EndDesc' in col] #EndDescShort_cols = [col for col in df.columns if 'EndDescShort' in col] # none\n",
        "    X = sample.drop(['ReliableChangeDesc', 'ReliableRecovery', 'Recovery'] + EndDesc_cols, axis = 1)\n",
        "    y = sample[target]\n",
        "    cols = X.columns\n",
        "\n",
        "    # machine learning algorithm\n",
        "    classifier = XGBClassifier()\n",
        "\n",
        "    # feature selection method\n",
        "    if selector == 'SelectFromModel':\n",
        "        selector = SelectFromModel(classifier)\n",
        "    elif selector == 'RFE':\n",
        "        selector = RFE(classifier)\n",
        "    else:\n",
        "        # fill this #\n",
        "        raise ValueError('Unsupported selector type')\n",
        "\n",
        "    # pipeline\n",
        "    pipeline = Pipeline([(\"FS\", selector), (\"classifier\", classifier)])\n",
        "\n",
        "    # initialise lists\n",
        "    scores, preds, actuals = [], [], []\n",
        "\n",
        "    # cross validation and hyperparameter tuning\n",
        "    outer_cv = StratifiedKFold(n_splits = k, shuffle = True)\n",
        "    for train_index, test_index in outer_cv.split(X, y):\n",
        "\n",
        "        # outer CV train and test sets\n",
        "        X_train, X_test = X.iloc[train_index], X.iloc[test_index]\n",
        "        y_train, y_test = y.iloc[train_index], y.iloc[test_index]\n",
        "\n",
        "        # fit data\n",
        "        pipeline.fit(X_train, y_train)\n",
        "\n",
        "        # evaluating optimised model on test\n",
        "        predictions = pipeline.predict(X_test)\n",
        "        score = metrics.accuracy_score(y_test, predictions)\n",
        "        scores.append(score)\n",
        "        #print('Accuracy: {}'.format(score)) # test sets\n",
        "\n",
        "        probs = pipeline.predict_proba(X_test)[:, 1]\n",
        "        preds.extend(probs)\n",
        "        actuals.extend(y_test)\n",
        "\n",
        "    if print == False:\n",
        "        pass\n",
        "    else:\n",
        "        print('Overall accuracy: {}'.format(np.mean(scores))) # test sets\n",
        "        print(\"--------------------------------------------------\")\n",
        "\n",
        "    return scores, preds, actuals\n"
      ]
    },
    {
      "cell_type": "code",
      "execution_count": null,
      "metadata": {
        "id": "D3fpbORikbIm"
      },
      "outputs": [],
      "source": [
        "def xgb_grid(params_str):\n",
        "    params = params_str.split(', ')\n",
        "    param_grid = {\n",
        "        'FS__threshold': params[0],\n",
        "        'classifier__max_depth': int(params[1]) if params[1] != 'None' else None,\n",
        "        'classifier__n_estimators': int(params[2]) if params[2] != 'None' else None,\n",
        "        'classifier__learning_rate': float(params[3]) if params[3] != 'None' else None,\n",
        "        'classifier__min_child_weight': float(params[4]) if params[4] != 'None' else None,\n",
        "        'classifier__subsample': float(params[5]) if params[5] != 'None' else None,\n",
        "        'classifier__colsample_bytree': float(params[6]) if params[6] != 'None' else None,\n",
        "        'classifier__gamma': float(params[7]) if params[7] != 'None' else None,\n",
        "        'classifier__reg_lambda': float(params[8]) if params[8] != 'None' else None,\n",
        "        'classifier__reg_alpha': float(params[9]) if params[9] != 'None' else None\n",
        "    }\n",
        "    return param_grid"
      ]
    },
    {
      "cell_type": "code",
      "execution_count": null,
      "metadata": {
        "id": "HJLCnUCIkcmc"
      },
      "outputs": [],
      "source": [
        "param_gridA = xgb_grid('10, 5, 200, 0.1, None, 0.5, 0.5, None, None, None')\n",
        "param_gridB = xgb_grid('50, 5, 200, 0.1, None, 0.5, 0.5, None, None, None')\n",
        "param_gridC = xgb_grid('10, 5, 400, 0.01, None, 0.5, 0.8, None, None, None')\n",
        "param_gridD = xgb_grid('50, 5, 400, 0.01, None, 0.5, 0.8, None, None, None')\n",
        "\n",
        "param_grids = [param_gridA, param_gridB, param_gridC, param_gridD]"
      ]
    },
    {
      "cell_type": "code",
      "execution_count": null,
      "metadata": {
        "id": "VEbfQq3kpKQq",
        "colab": {
          "base_uri": "https://localhost:8080/"
        },
        "outputId": "da115bd2-b779-48df-926b-c8c27f0b641d"
      },
      "outputs": [
        {
          "output_type": "stream",
          "name": "stdout",
          "text": [
            "Overall accuracy: 0.6342307692307693\n",
            "--------------------------------------------------\n",
            "Overall accuracy: 0.634423076923077\n",
            "--------------------------------------------------\n"
          ]
        }
      ],
      "source": [
        "for index, param_grid in enumerate(param_grids):\n",
        "    xgb_spec = {\n",
        "        'df': prep1_df,\n",
        "        'target': 'ReliableRecovery',\n",
        "        #'selector': 'SelectFromModel',\n",
        "        'selector': 'RFE',\n",
        "        'param_grid': param_grid,\n",
        "        'k': 10}\n",
        "\n",
        "        XGBoost_Training(**xgb_spec)"
      ]
    },
    {
      "cell_type": "markdown",
      "metadata": {
        "id": "LPbLHHf_svBB"
      },
      "source": [
        "## Modelling 2"
      ]
    },
    {
      "cell_type": "code",
      "source": [
        "data, raw_df = cleanf.load_data()\n",
        "data = cleanf.Clean_Data(data)\n",
        "\n",
        "import itertools\n",
        "\n",
        "prep_grid = dict(\n",
        "    df=[data],\n",
        "    quasi_thresh=[0.995, 0.999],\n",
        "    corr_thresh=[0.95, 0.99],\n",
        "    load_matrices=[True],\n",
        "    col_thresh=[0.3, 0.35, 0.4, 0.45],\n",
        "    row_thresh=[0.2, 0.5],\n",
        "    scale_method=['normalise'],\n",
        "    imputation_method=['iterative'],\n",
        "    #n_neighbours=[5],\n",
        "    max_iter=[5],\n",
        "    k_features=[100, 200]\n",
        ")\n",
        "\n",
        "# Create all combinations of parameters\n",
        "keys, values = zip(*prep_grid.items())\n",
        "combinations = [dict(zip(keys, v)) for v in itertools.product(*values)]\n",
        "\n",
        "# Create instances of Prepare_Data for each combination\n",
        "prep_dfs = []\n",
        "for params in combinations:\n",
        "    prep_df = prepf.Prepare_Data(\n",
        "        df=params['df'],\n",
        "        quasi_thresh=params['quasi_thresh'],\n",
        "        corr_thresh=params['corr_thresh'],\n",
        "        load_matrices=params['load_matrices'],\n",
        "        col_thresh=params['col_thresh'],\n",
        "        row_thresh=params['row_thresh'],\n",
        "        scale_method=params['scale_method'],\n",
        "        imputation_method=params['imputation_method'],\n",
        "        #n_neighbours=params['n_neighbours'],\n",
        "        max_iter=params['max_iter'],\n",
        "        k_features=params['k_features'])\n",
        "    prep_dfs.append(prep_df)"
      ],
      "metadata": {
        "colab": {
          "base_uri": "https://localhost:8080/"
        },
        "id": "71woidPW8RJw",
        "outputId": "89b208a4-8a3a-46d1-a3a3-22a4978aa94d"
      },
      "execution_count": null,
      "outputs": [
        {
          "output_type": "stream",
          "name": "stdout",
          "text": [
            "Drive already mounted at /content/drive; to attempt to forcibly remount, call drive.mount(\"/content/drive\", force_remount=True).\n"
          ]
        }
      ]
    },
    {
      "cell_type": "code",
      "source": [
        "for i, prep_df in enumerate(prep_dfs):\n",
        "    name = f'prep{i+1}_df'  # Generate a name for each dataframe\n",
        "    cleanf.manage_data(prep_df, name, 'save')"
      ],
      "metadata": {
        "colab": {
          "base_uri": "https://localhost:8080/"
        },
        "collapsed": true,
        "id": "B2XQ4Dx7XrS3",
        "outputId": "423e5f8a-bedd-425b-8268-0c2dd3ef7b25"
      },
      "execution_count": null,
      "outputs": [
        {
          "output_type": "stream",
          "name": "stdout",
          "text": [
            "Saved!\n",
            "Saved!\n",
            "Saved!\n",
            "Saved!\n",
            "Saved!\n",
            "Saved!\n",
            "Saved!\n",
            "Saved!\n",
            "Saved!\n",
            "Saved!\n",
            "Saved!\n",
            "Saved!\n",
            "Saved!\n",
            "Saved!\n",
            "Saved!\n",
            "Saved!\n",
            "Saved!\n",
            "Saved!\n",
            "Saved!\n",
            "Saved!\n",
            "Saved!\n",
            "Saved!\n",
            "Saved!\n",
            "Saved!\n",
            "Saved!\n",
            "Saved!\n",
            "Saved!\n",
            "Saved!\n",
            "Saved!\n",
            "Saved!\n",
            "Saved!\n",
            "Saved!\n",
            "Saved!\n",
            "Saved!\n",
            "Saved!\n",
            "Saved!\n",
            "Saved!\n",
            "Saved!\n",
            "Saved!\n",
            "Saved!\n",
            "Saved!\n",
            "Saved!\n",
            "Saved!\n",
            "Saved!\n",
            "Saved!\n",
            "Saved!\n",
            "Saved!\n",
            "Saved!\n",
            "Saved!\n",
            "Saved!\n",
            "Saved!\n",
            "Saved!\n",
            "Saved!\n",
            "Saved!\n",
            "Saved!\n",
            "Saved!\n",
            "Saved!\n",
            "Saved!\n",
            "Saved!\n",
            "Saved!\n",
            "Saved!\n",
            "Saved!\n",
            "Saved!\n",
            "Saved!\n"
          ]
        }
      ]
    },
    {
      "cell_type": "code",
      "source": [
        "# decent hyperparameters\n",
        "param_gridA = xgb_grid('10, 5, 200, 0.1, None, 0.5, 0.5, None, None, None')\n",
        "param_gridB = xgb_grid('50, 5, 200, 0.1, None, 0.5, 0.5, None, None, None') # changed to 50\n",
        "param_gridC = xgb_grid('10, 5, 400, 0.01, None, 0.5, 0.8, None, None, None')\n",
        "param_gridD = xgb_grid('50, 5, 400, 0.01, None, 0.5, 0.8, None, None, None')\n",
        "param_gridE = xgb_grid('10, 10, 400, 0.05, None, 0.5, 0.8, None, None, None') # new\n",
        "param_gridF = xgb_grid('10, 10, 400, 0.05, None, 0.5, 0.8, None, None, None')\n",
        "\n",
        "param_grids = [param_gridA, param_gridB, param_gridC, param_gridD, param_gridE, param_gridF]\n",
        "\n",
        "for i, prep_df in enumerate(prep_dfs):\n",
        "    print(f'Preparation data: {i + 1}')\n",
        "    for i, param_grid in enumerate(param_grids):\n",
        "        xgb_spec = {\n",
        "            'df': prep_df,\n",
        "            'target': 'ReliableRecovery',\n",
        "            #'selector': 'SelectFromModel',\n",
        "            'selector': 'RFE',\n",
        "            'param_grid': param_grid,\n",
        "            'k': 5,\n",
        "            'print': False}\n",
        "\n",
        "        scores = XGBoost_Training(**xgb_spec)[0]\n",
        "    print(f'Overall accuracy: {np.mean(scores)}')\n",
        "    print(f'Deviation of accuracy: {np.std(scores)}')\n",
        "    print('--------------------------------------------------')"
      ],
      "metadata": {
        "colab": {
          "base_uri": "https://localhost:8080/"
        },
        "id": "8sjiM2Wn1U_n",
        "outputId": "871d7cf6-f24d-4d82-a7dc-d82d290ff28f"
      },
      "execution_count": null,
      "outputs": [
        {
          "output_type": "stream",
          "name": "stdout",
          "text": [
            "Preparation data: 1\n",
            "Overall accuracy: 0.5372281726712107\n",
            "Deviation of accuracy: 0.03344812571721832\n",
            "--------------------------------------------------\n",
            "Preparation data: 2\n",
            "Overall accuracy: 0.5422590068159688\n",
            "Deviation of accuracy: 0.05465468756929363\n",
            "--------------------------------------------------\n",
            "Preparation data: 3\n",
            "Overall accuracy: 0.6264199935086011\n",
            "Deviation of accuracy: 0.037172115976768144\n",
            "--------------------------------------------------\n",
            "Preparation data: 4\n",
            "Overall accuracy: 0.6136319376825706\n",
            "Deviation of accuracy: 0.05795417906154838\n",
            "--------------------------------------------------\n",
            "Preparation data: 5\n",
            "Overall accuracy: 0.5703018500486855\n",
            "Deviation of accuracy: 0.025538808331445256\n",
            "--------------------------------------------------\n",
            "Preparation data: 6\n",
            "Overall accuracy: 0.5319376825705939\n",
            "Deviation of accuracy: 0.025585171644815174\n",
            "--------------------------------------------------\n",
            "Preparation data: 7\n",
            "Overall accuracy: 0.6418370658876988\n",
            "Deviation of accuracy: 0.030327409929126543\n",
            "--------------------------------------------------\n",
            "Preparation data: 8\n",
            "Overall accuracy: 0.6190847127555988\n",
            "Deviation of accuracy: 0.0791035887356031\n",
            "--------------------------------------------------\n",
            "Preparation data: 9\n",
            "Overall accuracy: 0.5728010386238235\n",
            "Deviation of accuracy: 0.02235827575563713\n",
            "--------------------------------------------------\n",
            "Preparation data: 10\n",
            "Overall accuracy: 0.506166828951639\n",
            "Deviation of accuracy: 0.05977112176740551\n",
            "--------------------------------------------------\n",
            "Preparation data: 11\n",
            "Overall accuracy: 0.6010061668289517\n",
            "Deviation of accuracy: 0.015256030389877292\n",
            "--------------------------------------------------\n",
            "Preparation data: 12\n",
            "Overall accuracy: 0.5959428756897112\n",
            "Deviation of accuracy: 0.038105175032527396\n",
            "--------------------------------------------------\n",
            "Preparation data: 13\n",
            "Overall accuracy: 0.5293411230120091\n",
            "Deviation of accuracy: 0.04534619655452419\n",
            "--------------------------------------------------\n",
            "Preparation data: 14\n",
            "Overall accuracy: 0.5268743914313534\n",
            "Deviation of accuracy: 0.040225806277137344\n",
            "--------------------------------------------------\n",
            "Preparation data: 15\n",
            "Overall accuracy: 0.6266471924699772\n",
            "Deviation of accuracy: 0.039519852932116364\n",
            "--------------------------------------------------\n",
            "Preparation data: 16\n",
            "Overall accuracy: 0.5702693930542032\n",
            "Deviation of accuracy: 0.04818448260408551\n",
            "--------------------------------------------------\n",
            "Preparation data: 17\n",
            "Overall accuracy: 0.49626744563453434\n",
            "Deviation of accuracy: 0.05176631160962994\n",
            "--------------------------------------------------\n",
            "Preparation data: 18\n",
            "Overall accuracy: 0.5371308016877638\n",
            "Deviation of accuracy: 0.04839754728201825\n",
            "--------------------------------------------------\n",
            "Preparation data: 19\n",
            "Overall accuracy: 0.613891593638429\n",
            "Deviation of accuracy: 0.0327364470793195\n",
            "--------------------------------------------------\n",
            "Preparation data: 20\n",
            "Overall accuracy: 0.619214540733528\n",
            "Deviation of accuracy: 0.08502453999534745\n",
            "--------------------------------------------------\n",
            "Preparation data: 21\n",
            "Overall accuracy: 0.5219733852645245\n",
            "Deviation of accuracy: 0.056410648582014104\n",
            "--------------------------------------------------\n",
            "Preparation data: 22\n",
            "Overall accuracy: 0.4987017202207076\n",
            "Deviation of accuracy: 0.03202174901389976\n",
            "--------------------------------------------------\n",
            "Preparation data: 23\n",
            "Overall accuracy: 0.6010710808179163\n",
            "Deviation of accuracy: 0.04191182141134675\n",
            "--------------------------------------------------\n",
            "Preparation data: 24\n",
            "Overall accuracy: 0.6240506329113924\n",
            "Deviation of accuracy: 0.058711697664318004\n",
            "--------------------------------------------------\n",
            "Preparation data: 25\n",
            "Overall accuracy: 0.5422590068159688\n",
            "Deviation of accuracy: 0.08443427448386483\n",
            "--------------------------------------------------\n",
            "Preparation data: 26\n",
            "Overall accuracy: 0.5600454397922753\n",
            "Deviation of accuracy: 0.0684450218401435\n",
            "--------------------------------------------------\n",
            "Preparation data: 27\n",
            "Overall accuracy: 0.6062317429406037\n",
            "Deviation of accuracy: 0.05623333298300443\n",
            "--------------------------------------------------\n",
            "Preparation data: 28\n",
            "Overall accuracy: 0.6189548847776696\n",
            "Deviation of accuracy: 0.09280163663339262\n",
            "--------------------------------------------------\n",
            "Preparation data: 29\n",
            "Overall accuracy: 0.5141512495942875\n",
            "Deviation of accuracy: 0.033969063079307305\n",
            "--------------------------------------------------\n",
            "Preparation data: 30\n",
            "Overall accuracy: 0.539565076273937\n",
            "Deviation of accuracy: 0.04285569733996592\n",
            "--------------------------------------------------\n",
            "Preparation data: 31\n",
            "Overall accuracy: 0.611165206101915\n",
            "Deviation of accuracy: 0.06512057358327769\n",
            "--------------------------------------------------\n",
            "Preparation data: 32\n",
            "Overall accuracy: 0.6011359948068808\n",
            "Deviation of accuracy: 0.03222513745853355\n",
            "--------------------------------------------------\n",
            "Preparation data: 33\n",
            "Overall accuracy: 0.5091204154495294\n",
            "Deviation of accuracy: 0.0393947430699084\n",
            "--------------------------------------------------\n",
            "Preparation data: 34\n",
            "Overall accuracy: 0.5548198636806232\n",
            "Deviation of accuracy: 0.03740468304711642\n",
            "--------------------------------------------------\n",
            "Preparation data: 35\n",
            "Overall accuracy: 0.5856215514443363\n",
            "Deviation of accuracy: 0.014529572152521202\n",
            "--------------------------------------------------\n",
            "Preparation data: 36\n",
            "Overall accuracy: 0.5880558260305095\n",
            "Deviation of accuracy: 0.05078213930131666\n",
            "--------------------------------------------------\n",
            "Preparation data: 37\n",
            "Overall accuracy: 0.5370983446932813\n",
            "Deviation of accuracy: 0.008554496396143562\n",
            "--------------------------------------------------\n",
            "Preparation data: 38\n",
            "Overall accuracy: 0.5472573839662447\n",
            "Deviation of accuracy: 0.035600070858253834\n",
            "--------------------------------------------------\n",
            "Preparation data: 39\n",
            "Overall accuracy: 0.5935086011035378\n",
            "Deviation of accuracy: 0.06283479655038648\n",
            "--------------------------------------------------\n",
            "Preparation data: 40\n",
            "Overall accuracy: 0.6268743914313535\n",
            "Deviation of accuracy: 0.09074881628993296\n",
            "--------------------------------------------------\n",
            "Preparation data: 41\n",
            "Overall accuracy: 0.5550795196364817\n",
            "Deviation of accuracy: 0.041307770905574734\n",
            "--------------------------------------------------\n",
            "Preparation data: 42\n",
            "Overall accuracy: 0.5115546900357026\n",
            "Deviation of accuracy: 0.04699458979840988\n",
            "--------------------------------------------------\n",
            "Preparation data: 43\n",
            "Overall accuracy: 0.6008763388510224\n",
            "Deviation of accuracy: 0.040446364123068096\n",
            "--------------------------------------------------\n",
            "Preparation data: 44\n",
            "Overall accuracy: 0.5857513794222655\n",
            "Deviation of accuracy: 0.06149924729452168\n",
            "--------------------------------------------------\n",
            "Preparation data: 45\n",
            "Overall accuracy: 0.5167802661473548\n",
            "Deviation of accuracy: 0.033123726480167294\n",
            "--------------------------------------------------\n",
            "Preparation data: 46\n",
            "Overall accuracy: 0.5423563777994158\n",
            "Deviation of accuracy: 0.04783890137077187\n",
            "--------------------------------------------------\n",
            "Preparation data: 47\n",
            "Overall accuracy: 0.60084388185654\n",
            "Deviation of accuracy: 0.05799335630127342\n",
            "--------------------------------------------------\n",
            "Preparation data: 48\n",
            "Overall accuracy: 0.6162284972411555\n",
            "Deviation of accuracy: 0.048892926046314955\n",
            "--------------------------------------------------\n",
            "Preparation data: 49\n",
            "Overall accuracy: 0.5342096721843557\n",
            "Deviation of accuracy: 0.06679444436566497\n",
            "--------------------------------------------------\n",
            "Preparation data: 50\n",
            "Overall accuracy: 0.5421940928270041\n",
            "Deviation of accuracy: 0.05341212398171066\n",
            "--------------------------------------------------\n",
            "Preparation data: 51\n",
            "Overall accuracy: 0.5982473222979552\n",
            "Deviation of accuracy: 0.04842379084676309\n",
            "--------------------------------------------------\n",
            "Preparation data: 52\n",
            "Overall accuracy: 0.5982473222979552\n",
            "Deviation of accuracy: 0.08491221213586828\n",
            "--------------------------------------------------\n",
            "Preparation data: 53\n",
            "Overall accuracy: 0.5522233041220383\n",
            "Deviation of accuracy: 0.0557398586159017\n",
            "--------------------------------------------------\n",
            "Preparation data: 54\n",
            "Overall accuracy: 0.5526452450503083\n",
            "Deviation of accuracy: 0.04755116958551589\n",
            "--------------------------------------------------\n",
            "Preparation data: 55\n",
            "Overall accuracy: 0.6113599480688088\n",
            "Deviation of accuracy: 0.04873462845503212\n",
            "--------------------------------------------------\n",
            "Preparation data: 56\n",
            "Overall accuracy: 0.593313859136644\n",
            "Deviation of accuracy: 0.03605780728789555\n",
            "--------------------------------------------------\n",
            "Preparation data: 57\n",
            "Overall accuracy: 0.5344044141512496\n",
            "Deviation of accuracy: 0.0633753881298822\n",
            "--------------------------------------------------\n",
            "Preparation data: 58\n",
            "Overall accuracy: 0.513988964621876\n",
            "Deviation of accuracy: 0.019852274973121233\n",
            "--------------------------------------------------\n",
            "Preparation data: 59\n",
            "Overall accuracy: 0.5985069782538137\n",
            "Deviation of accuracy: 0.05903087708547084\n",
            "--------------------------------------------------\n",
            "Preparation data: 60\n",
            "Overall accuracy: 0.5779941577409932\n",
            "Deviation of accuracy: 0.02441935365249034\n",
            "--------------------------------------------------\n",
            "Preparation data: 61\n",
            "Overall accuracy: 0.5421291788380396\n",
            "Deviation of accuracy: 0.016713492867920798\n",
            "--------------------------------------------------\n",
            "Preparation data: 62\n",
            "Overall accuracy: 0.5472249269717624\n",
            "Deviation of accuracy: 0.04490645412550639\n",
            "--------------------------------------------------\n",
            "Preparation data: 63\n",
            "Overall accuracy: 0.6085361895488478\n",
            "Deviation of accuracy: 0.047388923686254476\n",
            "--------------------------------------------------\n",
            "Preparation data: 64\n",
            "Overall accuracy: 0.6009087958455048\n",
            "Deviation of accuracy: 0.05165532456331368\n",
            "--------------------------------------------------\n"
          ]
        }
      ]
    },
    {
      "cell_type": "markdown",
      "source": [],
      "metadata": {
        "id": "-GPD8fYppEwj"
      }
    }
  ]
}
